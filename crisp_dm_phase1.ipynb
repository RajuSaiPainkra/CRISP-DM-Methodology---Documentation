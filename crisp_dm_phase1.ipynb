{
 "cells": [
  {
   "cell_type": "markdown",
   "metadata": {},
   "source": [
    "# CRISP-DM : Cross Industry Standard Process for Data Mining "
   ]
  },
  {
   "cell_type": "markdown",
   "metadata": {},
   "source": [
    "#### Define : \n",
    "RISP-DM (Cross-Industry Standard Process for Data Mining) is a widely used framework for developing data mining and analytics projects. It provides a structured, six-phase approach to ensure projects are systematic, efficient, and result in actionable insights."
   ]
  },
  {
   "cell_type": "markdown",
   "metadata": {},
   "source": [
    "##### Phases of the CRISP-DM : \n",
    "<pre>\n",
    "Phase 1 : Business Understanding\n",
    "Phase 2 : Data Understanding\n",
    "Phase 3 : Data Preparation\n",
    "Phase 4 : Modeling\n",
    "Phase 5 : Evaluation\n",
    "Phase 6 : Deployment\n",
    "Phase 7 : Monitoring and Assessment (This is optional)\n",
    "</pre>"
   ]
  },
  {
   "cell_type": "markdown",
   "metadata": {},
   "source": [
    "### Phase 1 : Business Understanding"
   ]
  },
  {
   "cell_type": "markdown",
   "metadata": {},
   "source": [
    "Check the files to know about the phase1 : Business Understanding in CRISP-DM Framework"
   ]
  },
  {
   "cell_type": "markdown",
   "metadata": {},
   "source": [
    "**File1** : [Jane Street Example for Business Understanding - for Colleagues and Staff](crisp_dm_phase1_sample_documentation/example_documentation_colleagues.md)\n",
    "\n",
    "**File2** : [Jane Street Example for Business Understanding - for Stakeholders](crisp_dm_phase1_sample_documentation/example_documentation_stakeholder.md)\n",
    "\n",
    "**File3** : [Documentation Sample for Business Understanding - for Stakeholders](crisp_dm_phase1_sample_documentation/sample_documentation_stakeholder.md)\n",
    "\n",
    "**File4** : [Documentation Sample for Business Understanding - for Colleagues and Staff](crisp_dm_phase1_sample_documentation/sample_documentation_colleagues.md)"
   ]
  },
  {
   "cell_type": "markdown",
   "metadata": {},
   "source": []
  }
 ],
 "metadata": {
  "language_info": {
   "name": "python"
  }
 },
 "nbformat": 4,
 "nbformat_minor": 2
}
